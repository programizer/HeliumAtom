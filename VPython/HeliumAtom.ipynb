{
 "cells": [
  {
   "cell_type": "code",
   "execution_count": null,
   "metadata": {},
   "outputs": [
    {
     "data": {
      "application/javascript": [
       "require.undef(\"nbextensions/vpython_libraries/glow.min\");"
      ],
      "text/plain": [
       "<IPython.core.display.Javascript object>"
      ]
     },
     "metadata": {},
     "output_type": "display_data"
    },
    {
     "data": {
      "application/javascript": [
       "require.undef(\"nbextensions/vpython_libraries/glowcomm\");"
      ],
      "text/plain": [
       "<IPython.core.display.Javascript object>"
      ]
     },
     "metadata": {},
     "output_type": "display_data"
    },
    {
     "data": {
      "application/javascript": [
       "require.undef(\"nbextensions/vpython_libraries/jquery-ui.custom.min\");"
      ],
      "text/plain": [
       "<IPython.core.display.Javascript object>"
      ]
     },
     "metadata": {},
     "output_type": "display_data"
    },
    {
     "data": {
      "application/javascript": [
       "require([\"nbextensions/vpython_libraries/glow.min\"], function(){console.log(\"GLOW LOADED\");})"
      ],
      "text/plain": [
       "<IPython.core.display.Javascript object>"
      ]
     },
     "metadata": {},
     "output_type": "display_data"
    },
    {
     "data": {
      "application/javascript": [
       "require([\"nbextensions/vpython_libraries/glowcomm\"], function(){console.log(\"GLOWCOMM LOADED\");})"
      ],
      "text/plain": [
       "<IPython.core.display.Javascript object>"
      ]
     },
     "metadata": {},
     "output_type": "display_data"
    },
    {
     "data": {
      "application/javascript": [
       "require([\"nbextensions/vpython_libraries/jquery-ui.custom.min\"], function(){console.log(\"JQUERY LOADED\");})"
      ],
      "text/plain": [
       "<IPython.core.display.Javascript object>"
      ]
     },
     "metadata": {},
     "output_type": "display_data"
    },
    {
     "data": {
      "text/html": [
       "<div id=\"glowscript\" class=\"glowscript\"></div>"
      ],
      "text/plain": [
       "<IPython.core.display.HTML object>"
      ]
     },
     "metadata": {},
     "output_type": "display_data"
    },
    {
     "data": {
      "application/javascript": [
       "window.__context = { glowscript_container: $(\"#glowscript\").removeAttr(\"id\")}"
      ],
      "text/plain": [
       "<IPython.core.display.Javascript object>"
      ]
     },
     "metadata": {},
     "output_type": "display_data"
    }
   ],
   "source": [
    "# from math import *\n",
    "# from visual import *\n",
    "# from visual.graph import * \n",
    "from vpython import *\n",
    "# import vpython\n",
    "\n",
    "scene.fullscreen = True\n",
    "\n",
    "G = 0.5\n",
    "\n",
    "spheres = [\n",
    "sphere(pos=vector(0,0,0),radius =0.6,color=color.red,charge=sqrt(200),mass=7200,velocity=vector(0,0,0),a = vector(0,0,0),trail=curve(color=color.red)),\n",
    "sphere(pos=vector(5,0,0),radius=0.2,color=color.blue,charge=-sqrt(10),mass=1,velocity=vector(0,0,0.75),a=vector(0,0,0),trail=curve(color=color.blue)),\n",
    "#sphere(pos=vector(0,12,0),radius=.08,color=color.green,mass=sqrt(4),velocity=vector(1.2,0,0.6),a=vector(0,0,0),trail=curve(color=color.green)),\n",
    "sphere(pos=vector(0,3,0),radius=0.2,color=color.white,charge=-sqrt(10),mass=1,velocity=vector(2,0,0),a=vector(0,0,0),trail=curve(color=color.white)),\n",
    "#sphere(pos=vector(0,28,0),radius=.4,color=color.orange,mass=sqrt(80),velocity=vector(0.7,0,0.4),a=vector(0,0,0),trail=curve(color=color.orange)),\n",
    "#sphere(pos=vector(0,32,0),radius=0.2,color=color.white,mass=-sqrt(10),velocity=vector(1.5,0,0.4),a=vector(0,0,0),trail=curve(color=color.white))\n",
    "]\n",
    "\n",
    "\n",
    "#print(spheres[0].a)\n",
    "\n",
    "#print(len(spheres))\n",
    "\n",
    "\n",
    "def acceleration1on2(sphere2,sphere1):\n",
    "    r = sphere2.pos - sphere1.pos\n",
    "    r_mag = mag(r)\n",
    "    normal_r = norm(r)\n",
    "    g = ((G*sphere1.charge*sphere2.charge)/pow(r_mag,2))/sphere2.mass*normal_r\n",
    "    #print(g)\n",
    "    if (r_mag<0.1):\n",
    "        g=-2*sphere2.velocity\n",
    "    return g\n",
    "    \n",
    "    \n",
    "t = 0\n",
    "dt = .01\n",
    "while 1:\n",
    "    rate(100)\n",
    "    for i in spheres:\n",
    "        i.a = vector(0,0,0)\n",
    "        #soi = vector(0,0,0)\n",
    "        for j in spheres:\n",
    "            if i!=j:\n",
    "                i.a = i.a + acceleration1on2(i,j)\n",
    "            \n",
    "          \n",
    "                \n",
    "\n",
    "                \n",
    "    for i in spheres:\n",
    "        #print(i.velocity)\n",
    "        i.velocity = i.velocity + i.a *dt\n",
    "        i.pos = i.pos+i.velocity*dt\n",
    "        #print(i.a)\n",
    "        i.trail.append(pos=i.pos)\n",
    "        \n",
    "            \n",
    "    scene.center=vector(spheres[0].pos.x,spheres[0].pos.y,spheres[0].pos.z)\n",
    "\n",
    "\n",
    "                \n",
    "    # print(i.a)"
   ]
  },
  {
   "cell_type": "code",
   "execution_count": null,
   "metadata": {
    "collapsed": true
   },
   "outputs": [],
   "source": []
  }
 ],
 "metadata": {
  "kernelspec": {
   "display_name": "VPython",
   "language": "python",
   "name": "vpython"
  },
  "language_info": {
   "codemirror_mode": {
    "name": "ipython",
    "version": 3
   },
   "file_extension": ".py",
   "mimetype": "text/x-python",
   "name": "python",
   "nbconvert_exporter": "python",
   "pygments_lexer": "ipython3",
   "version": "3.6.3"
  }
 },
 "nbformat": 4,
 "nbformat_minor": 2
}
